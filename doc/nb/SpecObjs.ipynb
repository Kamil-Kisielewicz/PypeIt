{
 "cells": [
  {
   "cell_type": "markdown",
   "metadata": {},
   "source": [
    "# Developing SpecObjs [v1]"
   ]
  },
  {
   "cell_type": "code",
   "execution_count": 1,
   "metadata": {
    "collapsed": true
   },
   "outputs": [],
   "source": [
    "# imports\n",
    "from importlib import reload\n",
    "\n",
    "from pypit import specobjs"
   ]
  },
  {
   "cell_type": "markdown",
   "metadata": {},
   "source": [
    "## Instantiate a null"
   ]
  },
  {
   "cell_type": "code",
   "execution_count": 2,
   "metadata": {
    "collapsed": true
   },
   "outputs": [],
   "source": [
    "sobjs = specobjs.SpecObjs()"
   ]
  },
  {
   "cell_type": "code",
   "execution_count": 3,
   "metadata": {
    "scrolled": true
   },
   "outputs": [
    {
     "data": {
      "text/plain": [
       "<Table length=0>\n",
       "<No columns>"
      ]
     },
     "execution_count": 3,
     "metadata": {},
     "output_type": "execute_result"
    }
   ],
   "source": [
    "sobjs"
   ]
  },
  {
   "cell_type": "markdown",
   "metadata": {},
   "source": [
    "## Now with a few specobj"
   ]
  },
  {
   "cell_type": "markdown",
   "metadata": {},
   "source": [
    "### Make em"
   ]
  },
  {
   "cell_type": "code",
   "execution_count": 4,
   "metadata": {
    "collapsed": true
   },
   "outputs": [],
   "source": [
    "shape = (1024,2048)"
   ]
  },
  {
   "cell_type": "code",
   "execution_count": 5,
   "metadata": {},
   "outputs": [
    {
     "data": {
      "text/plain": [
       "<SpecObj: Setup = None, Slit = 999 at spec = 1240.00 & spat = ( 800.00, 810.00) on det=01, scidx=1, objid = None and objtype=unknown>"
      ]
     },
     "execution_count": 5,
     "metadata": {},
     "output_type": "execute_result"
    }
   ],
   "source": [
    "sobj1 = specobjs.SpecObj(shape, (800., 810.), 1240.)\n",
    "sobj1"
   ]
  },
  {
   "cell_type": "code",
   "execution_count": 6,
   "metadata": {},
   "outputs": [
    {
     "data": {
      "text/plain": [
       "<SpecObj: Setup = None, Slit = 999 at spec = 1240.00 & spat = ( 400.00, 430.00) on det=01, scidx=1, objid = None and objtype=unknown>"
      ]
     },
     "execution_count": 6,
     "metadata": {},
     "output_type": "execute_result"
    }
   ],
   "source": [
    "sobj2 = specobjs.SpecObj(shape, (400., 430.), 1240.)\n",
    "sobj2"
   ]
  },
  {
   "cell_type": "code",
   "execution_count": 7,
   "metadata": {},
   "outputs": [
    {
     "data": {
      "text/plain": [
       "{'HAND_DET': None,\n",
       " 'HAND_FLAG': False,\n",
       " 'HAND_FWHM': None,\n",
       " 'HAND_SPAT': None,\n",
       " 'HAND_SPEC': None,\n",
       " 'boxcar': {},\n",
       " 'config': None,\n",
       " 'det': 1,\n",
       " 'fwhm': None,\n",
       " 'idx': None,\n",
       " 'maskwidth': None,\n",
       " 'objid': None,\n",
       " 'objtype': 'unknown',\n",
       " 'optimal': {},\n",
       " 'scidx': 1,\n",
       " 'shape': (1024, 2048),\n",
       " 'slit_spat_pos': (800.0, 810.0),\n",
       " 'slit_spec_pos': 1240.0,\n",
       " 'slitid': 999,\n",
       " 'smash_peakflux': None,\n",
       " 'spat_fracpos': None,\n",
       " 'spat_pixpos': None,\n",
       " 'trace_spat': None,\n",
       " 'trace_spec': None}"
      ]
     },
     "execution_count": 7,
     "metadata": {},
     "output_type": "execute_result"
    }
   ],
   "source": [
    "sobj1.__dict__"
   ]
  },
  {
   "cell_type": "markdown",
   "metadata": {},
   "source": [
    "### Add em"
   ]
  },
  {
   "cell_type": "code",
   "execution_count": 8,
   "metadata": {
    "collapsed": true
   },
   "outputs": [],
   "source": [
    "sobjs.specobjs = [sobj1, sobj2]\n",
    "sobjs.build_summary()"
   ]
  },
  {
   "cell_type": "code",
   "execution_count": 9,
   "metadata": {},
   "outputs": [
    {
     "data": {
      "text/plain": [
       "<Table length=2>\n",
       " shape [2]   slit_spat_pos [2] slit_spec_pos config ... HAND_FLAG boxcar optimal\n",
       "   int64          float64         float64    object ...    bool   object  object\n",
       "------------ ----------------- ------------- ------ ... --------- ------ -------\n",
       "1024 .. 2048    800.0 .. 810.0        1240.0   None ...     False     {}      {}\n",
       "1024 .. 2048    400.0 .. 430.0        1240.0   None ...     False     {}      {}"
      ]
     },
     "execution_count": 9,
     "metadata": {},
     "output_type": "execute_result"
    }
   ],
   "source": [
    "sobjs"
   ]
  },
  {
   "cell_type": "markdown",
   "metadata": {},
   "source": [
    "## Call me"
   ]
  },
  {
   "cell_type": "code",
   "execution_count": 10,
   "metadata": {},
   "outputs": [
    {
     "data": {
      "text/plain": [
       "(1024, 2048)"
      ]
     },
     "execution_count": 10,
     "metadata": {},
     "output_type": "execute_result"
    }
   ],
   "source": [
    "sobjs[0]['shape']"
   ]
  },
  {
   "cell_type": "code",
   "execution_count": 11,
   "metadata": {},
   "outputs": [
    {
     "data": {
      "text/plain": [
       "array([[1024, 2048],\n",
       "       [1024, 2048]])"
      ]
     },
     "execution_count": 11,
     "metadata": {},
     "output_type": "execute_result"
    }
   ],
   "source": [
    "sobjs['shape']"
   ]
  },
  {
   "cell_type": "markdown",
   "metadata": {
    "collapsed": true
   },
   "source": [
    "## Add a new obj"
   ]
  },
  {
   "cell_type": "code",
   "execution_count": 12,
   "metadata": {},
   "outputs": [
    {
     "data": {
      "text/plain": [
       "<SpecObj: Setup = None, Slit = 999 at spec = 1240.00 & spat = ( 200.00, 220.00) on det=01, scidx=1, objid = None and objtype=unknown>"
      ]
     },
     "execution_count": 12,
     "metadata": {},
     "output_type": "execute_result"
    }
   ],
   "source": [
    "sobj3 = specobjs.SpecObj(shape, (200., 220.), 1240.)\n",
    "sobj3"
   ]
  },
  {
   "cell_type": "code",
   "execution_count": 13,
   "metadata": {
    "collapsed": true
   },
   "outputs": [],
   "source": [
    "sobjs.add_sobj(sobj3)"
   ]
  },
  {
   "cell_type": "code",
   "execution_count": 14,
   "metadata": {},
   "outputs": [
    {
     "data": {
      "text/plain": [
       "<Table length=3>\n",
       " shape [2]   slit_spat_pos [2] slit_spec_pos config ... HAND_FLAG boxcar optimal\n",
       "   int64          float64         float64    object ...    bool   object  object\n",
       "------------ ----------------- ------------- ------ ... --------- ------ -------\n",
       "1024 .. 2048    800.0 .. 810.0        1240.0   None ...     False     {}      {}\n",
       "1024 .. 2048    400.0 .. 430.0        1240.0   None ...     False     {}      {}\n",
       "1024 .. 2048    200.0 .. 220.0        1240.0   None ...     False     {}      {}"
      ]
     },
     "execution_count": 14,
     "metadata": {},
     "output_type": "execute_result"
    }
   ],
   "source": [
    "sobjs"
   ]
  },
  {
   "cell_type": "markdown",
   "metadata": {},
   "source": [
    "## Remove an obj"
   ]
  },
  {
   "cell_type": "code",
   "execution_count": 15,
   "metadata": {},
   "outputs": [],
   "source": [
    "sobjs.remove_sobj(2)"
   ]
  },
  {
   "cell_type": "code",
   "execution_count": 16,
   "metadata": {},
   "outputs": [
    {
     "data": {
      "text/plain": [
       "<Table length=2>\n",
       " shape [2]   slit_spat_pos [2] slit_spec_pos config ... HAND_FLAG boxcar optimal\n",
       "   int64          float64         float64    object ...    bool   object  object\n",
       "------------ ----------------- ------------- ------ ... --------- ------ -------\n",
       "1024 .. 2048    800.0 .. 810.0        1240.0   None ...     False     {}      {}\n",
       "1024 .. 2048    400.0 .. 430.0        1240.0   None ...     False     {}      {}"
      ]
     },
     "execution_count": 16,
     "metadata": {},
     "output_type": "execute_result"
    }
   ],
   "source": [
    "sobjs"
   ]
  },
  {
   "cell_type": "code",
   "execution_count": null,
   "metadata": {
    "collapsed": true
   },
   "outputs": [],
   "source": []
  }
 ],
 "metadata": {
  "kernelspec": {
   "display_name": "Python 3",
   "language": "python",
   "name": "python3"
  },
  "language_info": {
   "codemirror_mode": {
    "name": "ipython",
    "version": 3
   },
   "file_extension": ".py",
   "mimetype": "text/x-python",
   "name": "python",
   "nbconvert_exporter": "python",
   "pygments_lexer": "ipython3",
   "version": "3.6.5"
  }
 },
 "nbformat": 4,
 "nbformat_minor": 2
}
